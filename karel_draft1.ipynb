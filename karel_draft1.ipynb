{
  "nbformat": 4,
  "nbformat_minor": 0,
  "metadata": {
    "colab": {
      "name": "karel_draft1.ipynb",
      "provenance": [],
      "authorship_tag": "ABX9TyNwdHyXzba+VB0Ss1A+1UEW",
      "include_colab_link": true
    },
    "kernelspec": {
      "name": "python3",
      "display_name": "Python 3"
    },
    "language_info": {
      "name": "python"
    }
  },
  "cells": [
    {
      "cell_type": "markdown",
      "metadata": {
        "id": "view-in-github",
        "colab_type": "text"
      },
      "source": [
        "<a href=\"https://colab.research.google.com/github/Rogerio-mack/mack-karel/blob/main/karel_draft1.ipynb\" target=\"_parent\"><img src=\"https://colab.research.google.com/assets/colab-badge.svg\" alt=\"Open In Colab\"/></a>"
      ]
    },
    {
      "cell_type": "code",
      "source": [
        "import numpy as np \n",
        "import matplotlib.pyplot as plt \n",
        "from matplotlib.colors import LogNorm \n",
        "dx, dy = 1, 1 \n",
        "x = np.arange(-6.0, 6.0, dx) \n",
        "y = np.arange(-6.0, 6.0, dy) \n",
        "X, Y = np.meshgrid(x,y) \n",
        "min_max = np.min(x), np.max(x), np.min(y), np.max(y) \n",
        "res = np.add.outer(range(8), range(8))%2 \n",
        "plt.imshow(res, cmap=\"binary_r\")\n",
        "plt.xticks([])\n",
        "plt.yticks([])\n",
        "plt.show()"
      ],
      "metadata": {
        "colab": {
          "base_uri": "https://localhost:8080/",
          "height": 252
        },
        "id": "3pUfx70QCPe9",
        "outputId": "6ec93fc1-a26a-4482-cab7-2d476341df60"
      },
      "execution_count": 1,
      "outputs": [
        {
          "output_type": "display_data",
          "data": {
            "image/png": "[encoded data removed]",
            "text/plain": [
              "<Figure size 432x288 with 1 Axes>"
            ]
          },
          "metadata": {}
        }
      ]
    },
    {
      "cell_type": "code",
      "source": [
        "!wget https://e1.pngegg.com/pngimages/438/320/png-clipart-simply-styled-icon-set-731-icons-free-bugzilla-red-and-black-lady-bug-illustration-thumbnail.png"
      ],
      "metadata": {
        "colab": {
          "base_uri": "https://localhost:8080/"
        },
        "id": "GHFY2zMMRGng",
        "outputId": "0b8fd9bf-6a82-4854-f14f-1cdf4b9a6a6a"
      },
      "execution_count": 2,
      "outputs": [
        {
          "output_type": "stream",
          "name": "stdout",
          "text": [
            "--2022-01-04 17:28:45--  https://e1.pngegg.com/pngimages/438/320/png-clipart-simply-styled-icon-set-731-icons-free-bugzilla-red-and-black-lady-bug-illustration-thumbnail.png\n",
            "Resolving e1.pngegg.com (e1.pngegg.com)... 104.21.88.247, 172.67.154.176, 2606:4700:3037::ac43:9ab0, ...\n",
            "Connecting to e1.pngegg.com (e1.pngegg.com)|104.21.88.247|:443... connected.\n",
            "HTTP request sent, awaiting response... 200 OK\n",
            "Length: 3275 (3.2K) [image/png]\n",
            "Saving to: ‘png-clipart-simply-styled-icon-set-731-icons-free-bugzilla-red-and-black-lady-bug-illustration-thumbnail.png’\n",
            "\n",
            "\r          png-clipa   0%[                    ]       0  --.-KB/s               \rpng-clipart-simply- 100%[===================>]   3.20K  --.-KB/s    in 0s      \n",
            "\n",
            "2022-01-04 17:28:45 (51.3 MB/s) - ‘png-clipart-simply-styled-icon-set-731-icons-free-bugzilla-red-and-black-lady-bug-illustration-thumbnail.png’ saved [3275/3275]\n",
            "\n"
          ]
        }
      ]
    },
    {
      "cell_type": "code",
      "source": [
        "!wget https://compedu.stanford.edu/karel-reader/docs/images/ch1/karelLarge.png"
      ],
      "metadata": {
        "colab": {
          "base_uri": "https://localhost:8080/"
        },
        "id": "HPy5_zzodcxA",
        "outputId": "321226eb-06be-4ac2-d73e-92446e4f9442"
      },
      "execution_count": 3,
      "outputs": [
        {
          "output_type": "stream",
          "name": "stdout",
          "text": [
            "--2022-01-04 17:28:45--  https://compedu.stanford.edu/karel-reader/docs/images/ch1/karelLarge.png\n",
            "Resolving compedu.stanford.edu (compedu.stanford.edu)... 171.64.64.64\n",
            "Connecting to compedu.stanford.edu (compedu.stanford.edu)|171.64.64.64|:443... connected.\n",
            "HTTP request sent, awaiting response... 200 OK\n",
            "Length: 8177 (8.0K) [image/png]\n",
            "Saving to: ‘karelLarge.png’\n",
            "\n",
            "\rkarelLarge.png        0%[                    ]       0  --.-KB/s               \rkarelLarge.png      100%[===================>]   7.99K  --.-KB/s    in 0s      \n",
            "\n",
            "2022-01-04 17:28:45 (243 MB/s) - ‘karelLarge.png’ saved [8177/8177]\n",
            "\n"
          ]
        }
      ]
    },
    {
      "cell_type": "code",
      "source": [
        "image = plt.imread('/content/png-clipart-simply-styled-icon-set-731-icons-free-bugzilla-red-and-black-lady-bug-illustration-thumbnail.png') "
      ],
      "metadata": {
        "id": "bsvmI8V7RT_5"
      },
      "execution_count": 4,
      "outputs": []
    },
    {
      "cell_type": "code",
      "source": [
        "image = plt.imread('/content/karelLarge.png')"
      ],
      "metadata": {
        "id": "MjQq8Q92djkH"
      },
      "execution_count": 5,
      "outputs": []
    },
    {
      "cell_type": "code",
      "source": [
        "from matplotlib.offsetbox import OffsetImage, AnnotationBbox\n",
        "im = OffsetImage(image, zoom=0.25)"
      ],
      "metadata": {
        "id": "-HUo0Si9SYno"
      },
      "execution_count": 6,
      "outputs": []
    },
    {
      "cell_type": "code",
      "source": [
        "\n",
        "fig, axes = plt.subplots(nrows = 1, ncols = 1, figsize = (7,7))\n",
        "\n",
        "# dx, dy = 1, 1\n",
        "# dx = np.arange(0, 12, dx) \n",
        "# dy = np.arange(0, 12, dy) \n",
        "# X, Y = np.meshgrid(x,y) \n",
        "# min_max = np.min(x), np.max(x), np.min(y), np.max(y) \n",
        "res = np.add.outer(range(8), range(8))%2 \n",
        "\n",
        "from matplotlib import animation\n",
        "from matplotlib.animation import FuncAnimation\n",
        "\n",
        "def animate(i):\n",
        "  axes.text(i,7,'$\\\\rightarrow$')\n",
        "#  if i>0:\n",
        "#    axes.text(i-1,7,'XXXXXX')\n",
        "  res[7,i] = 0\n",
        "  axes.imshow(res, cmap=\"Blues\", alpha=0.6)\n",
        "  # axes.imshow(res, cmap=\"Blues_r\")\n",
        "\n",
        "  axes.add_artist( #ax can be added image as artist.\n",
        "        AnnotationBbox(im\n",
        "            , (i, 7)\n",
        "            , frameon=False\n",
        "        ) \n",
        "    )\n",
        "\n",
        "# axes.grid()\n",
        "# axes.set_xticks([])\n",
        "# axes.set_yticks([])\n",
        "# plt.show()\n",
        "\n",
        "anim = FuncAnimation(fig, animate, interval=500, frames=6, repeat=False)\n",
        "\n",
        "from IPython.display import HTML\n",
        "HTML(anim.to_html5_video())\n",
        "\n"
      ],
      "metadata": {
        "colab": {
          "base_uri": "https://localhost:8080/",
          "height": 936
        },
        "id": "kkI4xuujCZNf",
        "outputId": "97bd5471-38f9-49a0-f182-44ad7b775320"
      },
      "execution_count": 7,
      "outputs": [
        {
          "output_type": "execute_result",
          "data": {
            "text/html": [
              "<video width=\"504\" height=\"504\" controls autoplay>\n",
              "  <source type=\"video/mp4\" src=\"data:video/mp4;base64,AAAAHGZ0eXBNNFYgAAACAGlzb21pc28yYXZjMQAAAAhmcmVlAAAsz21kYXQAAAKtBgX//6ncRem9\n",
              "5tlIt5Ys2CDZI+7veDI2NCAtIGNvcmUgMTUyIHIyODU0IGU5YTU5MDMgLSBILjI2NC9NUEVHLTQg\n",
              "QVZDIGNvZGVjIC0gQ29weWxlZnQgMjAwMy0yMDE3IC0gaHR0cDovL3d3dy52aWRlb2xhbi5vcmcv\n",
              "eDI2NC5odG1sIC0gb3B0aW9uczogY2FiYWM9MSByZWY9MyBkZWJsb2NrPTE6MDowIGFuYWx5c2U9\n",
              "MHgzOjB4MTEzIG1lPWhleCBzdWJtZT03IHBzeT0xIHBzeV9yZD0xLjAwOjAuMDAgbWl4ZWRfcmVm\n",
              "PTEgbWVfcmFuZ2U9MTYgY2hyb21hX21lPTEgdHJlbGxpcz0xIDh4OGRjdD0xIGNxbT0wIGRlYWR6\n",
              "b25lPTIxLDExIGZhc3RfcHNraXA9MSBjaHJvbWFfcXBfb2Zmc2V0PS0yIHRocmVhZHM9MyBsb29r\n",
              "YWhlYWRfdGhyZWFkcz0xIHNsaWNlZF90aHJlYWRzPTAgbnI9MCBkZWNpbWF0ZT0xIGludGVybGFj\n",
              "ZWQ9MCBibHVyYXlfY29tcGF0PTAgY29uc3RyYWluZWRfaW50cmE9MCBiZnJhbWVzPTMgYl9weXJh\n",
              "bWlkPTIgYl9hZGFwdD0xIGJfYmlhcz0wIGRpcmVjdD0xIHdlaWdodGI9MSBvcGVuX2dvcD0wIHdl\n",
              "aWdodHA9MiBrZXlpbnQ9MjUwIGtleWludF9taW49MiBzY2VuZWN1dD00MCBpbnRyYV9yZWZyZXNo\n",
              "PTAgcmNfbG9va2FoZWFkPTQwIHJjPWNyZiBtYnRyZWU9MSBjcmY9MjMuMCBxY29tcD0wLjYwIHFw\n",
              "bWluPTAgcXBtYXg9NjkgcXBzdGVwPTQgaXBfcmF0aW89MS40MCBhcT0xOjEuMDAAgAAAFBpliIQA\n",
              "Ff/+98nvwKbrW1u1v5PPSPwstz7CKj9uWxO06gAAAwAAAwAFcpkOwsbx8DtMYAABfAAQITP+M5ke\n",
              "AAjAUo6rIbYKm1gDhVHA3oUYnTd7VeAM3MW6QiWQAjkqhr/4RuBrf759KCshhiBYN1Npas1AGPDl\n",
              "vrXDzmMzzUe0325oR2vkQMGua3HIrGQLJ/eK+ovQ6/+FQi8PUtouKBI+PUYlLm5BzMj4s2KGbEak\n",
              "3gw7xdUGHKZbb8kc9NZQD8+csi1oSPMDIt2HMn4u11vWAL/dqrlM1/3RI1l6MLLVazd7DJ5a3Pc0\n",
              "0t4CdPuaAI+1OCuATaHLgxjR1uxNGduNDDSkt0fsYdGp710M55pNbzRj8Pt2LH27DxWOW1nf/4QN\n",
              "zf+b4kqcr+dUWQ0i1GW44I8VAot7FYN2ndvNHK2XBGoHiTxs1GU2fjI52C3WX8e/EbNLBCr4OF7u\n",
              "X7rjMx9J3AM9aP6l9mrJtNt+EIzrxciDrdjSmI2ZyNjouAXDEb1gvHZ3H3xH8VeqSmqG4x36cFr+\n",
              "LQjF7G/STHCgs5zz/3cZh9Z+3/iyu1yUXIx0YFhPi+lyEUojnqBxpLZP6EclkhO/tTApMBaRtRKr\n",
              "ERiKnvtrUCEhuS5Yq4UaqySXW1iFVeeDhI148OhfDumOHmC0m0sa5o9+McHAsiebFZzBmZsJJIdM\n",
              "QzaCjJjfGpXUYPAqqLAF1uZQKQmDzCm6JnhuTC/8Xaviy4JwzdToGrAhpCfRLx/2KiDIBzc6SC/t\n",
              "k9TO1MgMsfns3VFTgjyJ7zovMiy1frRl0bTPGtYLyrKoGRALHd9GJKS/kBgmeM0JnDn0TA5HRn/g\n",
              "7DfxE6klfOk2/Pk3H7cSsYW1cU0s/bO0bCQop+v3ACyDsfDgdeRkVyC8TTJ1bJ6Rqi9GMbgJynAS\n",
              "ddCcq78Tz9JGh9N4x22QkCxvDC9dmzLryaQ27HsRUlGNmL9naQcrJ5KSSo/IqPTHpPseO/IZjFfg\n",
              "bOrRrDGDewE8/PJINxuxBN2hf1PPffCXP9vg8UkMxKsOJ0Z5UJNPOPMZeYQNwW+1DC1kyAhuUB/m\n",
              "NQfSS2XyyVugwKRX58cN848BTLFdqWdsIfsyGg8BmHAQn/WlEaYp6wvtWWamsiJQFBmb5tDRrK6t\n",
              "T72s9sXCcmtjE/kWenXADvHLIRVvQMQY5mKUNnkFHZbN5R9RxbSbiv8uORKINvaZB0Sq13lKh9k3\n",
              "WX1MxvorZNHRgS+uuM2u+AhW1L5LFmlTffC5yhuLKbZnbfFSC/+iq8Ogr5RSQxXzuEGS6XshXlud\n",
              "cwJ7yNcL91vyLILQ//0mrpiPf9dyLTlLigBK1tww3T2SSKykjO7a7sGZpERqslmkN//6DrxSIMJs\n",
              "ir7tiYQgW30UcX/oH1mKlNwJYrJSvnE2yaPRvmFYtRmLmMgKZwdbCDaG7zn1VX1y3JqfRlF2dT3p\n",
              "NPoBdW26vnTywcg5RFmjtlj8wGSVNMEOmOvv/2gUqoU4CGBPabCFltFIXc+REX3BSRxdxIzLKob4\n",
              "xgeDZ0xITi2hlljWsIhwzFGVT/LL4NYCf5EaxWghQHL+REF9UlfojfR5d5j4UpgVZv97KH+XnC0e\n",
              "pXbFtYDDzjnVR3ncmB0DGsk19TxqcT07UD5/qPqpmzyO2Qz0DCjLpUGvwtcC/PsvDc0x71W/YPgp\n",
              "0aqmAZ7j266OJW5vMCyWMzlPQOOQNc2yN2T4HPMKP6xhtbYrb3shCG6uWahIgEEqrVuxhV51Y22Q\n",
              "S2LoD4VBFnju5Rfc4xORLxAx+t76u2Fpy21rAWeS7D2UbtCN5hjw4de8prJsLhYqoS0B9mlxp9aZ\n",
              "/pQq47xRzq5/+XUNj0K2yUW4lqkGOYqtLQF7L1VT5gbbYXqEniolded6107I3BWasnwB1YCC5ra7\n",
              "CDhA6q0SNI4T2eGmA64mGWPAMLlSIDy7jEPjlevo6O6sbSTPp7pbvi64a7RWFE0UmapHhPvzwm2x\n",
              "dj6YEwic8bZw6+Eygfbm0NwgWFye5SU98uWAE9BHO5dphkCUfEoH23MglfbUNkxKP9Jp4XJUAu2z\n",
              "FQtwH8/J1w12iptnD2ztiIaCD9uMuH1FRtuioSAsxBYjRPkTGLDx+ZsDRzqRZ2ZnaxTF/0GQAVDI\n",
              "X9U19PBbzhVIk4JK8SLaKaA/64xxbVLytNKcC+ZOKf27mKcxoji495YWkr0hRFxVdmz8oyFVbxOv\n",
              "v/2EQs2bwjRzNx6EyOckIwaE6j830T9ywviplR9RfURS7EEXZLQeeYzjYzgYd8rRfkoc8SWdZv/X\n",
              "454k/HfNfNqw+tQ5/KDJdOymPcINp2rjigBvXS001u57ho50K+asQX8M0V7rGPg7WDuNE3AHdXMc\n",
              "3PvNyI0OaIjfNgKLNPQ5LwbFhZ9WowjCCtegzVutrq9DjJbjfe5J6ciHPPw23cMM1GG0SPuBABPr\n",
              "cxHfHxmASzbzGUILkVWuFJ4H412Q84Xx8TqHSq3w0969j2axgR4sunaoLjBulbyiMFOZr7J9uLp6\n",
              "TnENEYo6h1bvtUvTGHiceFu2bj4gPVdS64iOVbuaZsMo2RW+rYN+ds9cjEMFcBKCev/AT1Qw0Kv/\n",
              "q1IXwK0IPe9Km2VKlRB6dzxV/B3HsP7axtwzvzpUQDc/CYcby8E+NA3gVApjC8m4N98T5TOHKRwe\n",
              "6lvx/WWXzqPK05+EbRjqRHnCbtbEgInfE+lhkBQ/HdJHpUVVo/PsovlokD58hGrZJmEJq9WwzGQH\n",
              "xIIhUhj2ttvC5GDDE6qllmYGj9qHcp879KmdeA0iLQfXE4lhNHeC5x7eYIvaR9k+mOHFQYT0CdOW\n",
              "KIl05U4/lS9v0zvd9tyntgrLTncA8VZ8Q5Sx6Fd5n9rgSZFh1HZSstg44XOeUA+zZ43Grap/vpF0\n",
              "6G0aPUjpQo/sSX0NDlZkWOVLSZ892rTP5eItG+silY5w+syNiwxFAdntlDzCPzOr13MioHnFmxDZ\n",
              "qD6SsIazOdO9KX1fxMis+IxR3G8E3/TU8AoLxd/QKVSvlKwvLg1qx8WKH+D9qvo0aleEVxilw9RP\n",
              "hEq4pyC1I6MO+GlQZONTqpFW+Q7hvhZ61rm5nUIpH2dOq4NcbNwBtAOlPnIfByPIYT54qjvpw5Cf\n",
              "kW36oX2GY8RrsV4iLTGBDX2zjiQntqnVzvcXh5TpNLgBsjVxf2GgbVHcs5y1Jhf9elsEvf7S2X/l\n",
              "ZjidQ1xzevCmOCUrT/RHQAxtAW/w7z8v1hNKt6YYuHuiiYNoDKt2y6oitI96ObV2n1W+fooVvptk\n",
              "WUQPdP5SwhEqF/iS2M+RH5Fn4Bi+v+y5yrZ6Esu6R89Psdcfhu4Id/fcWiJz4AKvcjt8dod+kpQE\n",
              "xqOCJRlWa0k2r84Wz9jMVZmUyBVLFOyk+KwoUbGx8D8P+WRt8oNnytMwgEvwrFgR85Va6WOqifT7\n",
              "cEiYIJ/hq/Did6fSjUUnyKhcNzZ60RWYUBnYxxytx4mXuYsmuud0GfTXYW6eCM+/8nAg+enUdtQN\n",
              "XmsJzqjxBH1raKJDrDLoqhtZ5dSggq6FEFS8TIE/MJmyJTFJcgvxf1LTvialzNcBEiXCpvoqJ/or\n",
              "OpBXkGXxuvDs9dp/Ln3h97ZbN2h5eL58/ZH0EZc81k+KotiTePgXxJkAVjyeaN73xzPpzPyRatB5\n",
              "Bh1tztWxMw2+euWFStLRTXEJgKpItDk89A+P6iRTMf6r1woHR33Xp+K31Dxg7G1cgz98HnyWol1v\n",
              "txJBWypJxks08vb9pfETWj2EeB+ALCAPc+mQz5CPsjbCTTQYO4P1PrHW9atNG7Da2TGRT2a1rFU+\n",
              "KrmEf0tbvYYYx8f8BztxgNUcHD5Lv5BmMDedBShXVvpjN/nUg1hjxtQRPKJtroAOIWdYVPmj6GuE\n",
              "BuxQIiBLc0NM9lcL8bS7iFJvfMTmHzWa5+hv+rBZc2CltI/Rp41s4IHGx8yO5pJdTan18RCP8LvE\n",
              "kk4aTU59hj4TNqNxzDFE5tGOTVD6f7WvJaJpFxSSnfohbW8rp5k1DCoXe/vBjllcsmYQfcgXDEf1\n",
              "pdZIFPzx8DC1nsSI4JFGuC9txVEBMc80VFn78r/dPcm2oHcIxjgR/mC80ppJD1F/fGFnXItlRrMr\n",
              "iJdYb+wZBaS95vwvUYS6a8f0/Wu5XhizTEEOMs2xsZd/JrB40rLjVO7CoBjrtXJTpOREumM45Qv6\n",
              "npqpH/B3y7hk11QnQozqFApvKO+UwyhTCuqOXLwhOrUI1mfdhK1hIjR9M9B/UuNyFMd4sRG3KV11\n",
              "SnQL/pMg4RRCGTHukKBRaDwE4D4sfH5hqCHN7o417RDfKbaYYKEIaH3+3olZK+dX2w589nHGYXLh\n",
              "WvbDR6z76sPJk67kuHn0pbae3waRIfrif4ZzvfDkSIGWFU9tOUgLiGw9Nmwm6wLu/3/g/VyuGIFI\n",
              "+FasMGurPsyzDe8IF6FuvjOPK9dGvNZ7nGaj9CvRLXSA6/emO2LJwrqefaLaVDqvH8i7Vg2s/dBF\n",
              "e8PEzZn+HEjGkS41GuUoIbw0b/X7tk0mkdntF/XgxyIwJ5QZ6pDdfhuO+J+DGhZ5U4Hjt2vz4kE7\n",
              "9DNrh2j6VG+O8nY8Y0elF3QcnUGSqJRmLM7J6UmxoaHVarL4de5lllVZaxZiDEO7Bi+/cp/sYp/j\n",
              "u5kwzH7g0NqmETFWhwl7fUBO8CEiUZPT2PYPzr4A5Oc+ANBCM22TeDUZWMqFjo5F3HY/VquS//Fm\n",
              "8Ox7/4pN6due9boB4YI0qnP7WwB9rqgm8nbJ94pMhGyQi/rBxVN3nvWS7/4OJjfD5Q0FVdMR3UAQ\n",
              "hxvANRquZkfL57nqQA1EiDYpDPsZdbbCFOIYruhxgEuJdX+YrvIm9btY/GI9RNoexokh/yVtPAVq\n",
              "T8JdEgNfoh2po9pCbs0EU4BmgB3rFUDsvNkcmUvbAK+w4OgQj8eA4QvIz42+1rSffYBVU6Gwq+hs\n",
              "jstquAqIv7g7DSrJvyAeM1h290ix2VNFAl6aFwh64TgI+6XRigbPAjcknEO9SQ4c5X6icS3r73fV\n",
              "oHqKTnYPD+SMrZVpN12wGOM93KeYixCCfPxsV19TDERdfUtz+bf9L4KWcVggJfXkrA7QPJ4GmNFd\n",
              "0JT1mLFiEhov0sRB6NztcfSKOdcWsdioJLq6Z9yFAQdK76Cjt2N4xHXbXw0q1+/YxlGMvy49O1Xy\n",
              "o/rHlyPf9ZySmSEUWFMAx5FVF+tqWoV1MpxTxI+rPejTKouWCKV6bnBPyRrKfC7AYgoCaMvG2G4L\n",
              "QjQMwO4ulYLPMD4QLwAxsAcoMi9LqOSQeEwbm3/1Gbk9Eq9kuL6GgYsFlwR4cspYx5vOQo/tj5KG\n",
              "GZvBUYo6JsBqvdFr3sbwX3Bd4XVm5jNXh+nfblkUH9XdOiM6DIQCTC0x+0d+Me3tBCTSe2n2joYs\n",
              "NDJioNuhWGm82sfa1Z5sQhk3jNLAHjTQJi/UfSs9s3iAIfvMepp5+WoScHhbrH0o62K4koYie7+1\n",
              "IBe/1zekIV/3HdW1M0xwuPO9SLw6H/ACjb89tKgZ9CEFXIMuaqA0RYaSGgpWID9TIyClnGmKzE1Z\n",
              "eE9V+AuWpIZPs3/NG+nonS6igEUVbAJjaoSaKAHboyO7qx/k3npO9EDH9bP5VkPlQHLuVqaySFiW\n",
              "BRy5P4n5xjUXqTN0+SvKBlyZnKI12nv4VO9FItOwDv+PRI1U8hXeKdJnvu2v46ax0jX5NIGA5770\n",
              "eLlPsja2dirlnY5ErK+ezN3TXmId9z1DVfne1DhdswglJupnh0bn8i/zPaW30ZG8hY5Jh5vdlwre\n",
              "yYKrYWF/PHQWjosD9w1vPwWWew/2vkEipDxvC4NIViNYjKTWtn5dvRw2qFF34I50kyympPq9u+BY\n",
              "mkCCuz4aiEMLWKpwZwpxjWJHq3J8ugtKXKrPzQFCeXkFnymwoQBID+vTAggacdz5NS1/01gnLqKd\n",
              "XWp7Oo1sYcy5Qk11qe9M944m4NM9dRex9AqDT9UEv9dKmQy1fQ9jHDKFIsIVLopUxi/PIEABYern\n",
              "tSyQgjRuW0Njvqy2OwzQc6D1x+TppTYOC//uw4OcndgFbVlMN4bGYzSOOkBS2D4PwN8dul3TyYey\n",
              "7A6j7ia/MDu+zXbtlKLdId4M6+RFwwlTlNemws4VCgoZPkVpLkaR2+7O7bWUBd0JIYSAMHp26zGS\n",
              "SP7tqa46rGP/U59GLsejqUyhFQGf/AbZQg/p+1FfzyfLAO9UQxJb7wn3V0Gr0xosE5H0XfvkLnmk\n",
              "nIEdUwtYRo0Gsz5h6Q+GRLPzQPMjqIOIwPOm/Deza+AqNBZqVmuhnAC0021SJzt06vfX7OoOT2nr\n",
              "m20omJiwEtmhIQdbisfQ+Ut1OCNrMvmIt5s+W6Q2bBRsMZG/hpjo4LRUGCSIOyE86t1UNYYrUl2k\n",
              "OhR2b6Kk8xMtChTEMHxDNt3n50e8qTVk8qNuIzHyz1596RRxDL/y9583QcrZG14B9IX4OZizMHyP\n",
              "kPNtpOgjRgP66+x8xhVdLkYXwoaAVNA4zVEjn5TRhXe+PF1AxkCPa3ymK/rqq8SOY8lmqwWKa3Lg\n",
              "zj4VM6p7rc2eqka6HgoYqjXDBBlRUfrGgaSCBlc/NBINM+fGsXS/fTo/m9N7wSfSewimFtnGe+hm\n",
              "hZtq79ufSkpRuuNAZSTVe5LdxgGTnVxv//8kyg1cvGMqCIIiRaD6mlLSchxdK2UZDUSRIXdOvtKJ\n",
              "i3P5Expj5uChxy0YZPMeyoZYTPkowxRYXAZ0Jp4SyqOLmBJrPKeebNJcWuDSx3NRyM/UQqtjP62d\n",
              "4egAvxSbLJA+DdsZcaW3whbYe5vsLnHDbPNh2VF1DzUqC+AsX01VcDBwSMNDxt5XutN7lcA31ENi\n",
              "4AAFM+wAAAMAAElBAAAJDUGaIWIeEgdwEcHQEoClBX/+1qVQATkP0rqgAcdTKe06qi4Xn/KF2rO6\n",
              "Jw/kQru12OA92XFyssUWK7e6joSuaSasu0V7Wxp/dYfcjoNqud2EgRe5noRnsuXN7BC91c9JtRS0\n",
              "B9EQrns4d6XFfQ2cBSdCb3M0bJJgBZUKxoVjt3r6di4i6nWCsuxrMsyLGOOoWj9uo855fKOPVVGf\n",
              "eZMXm3Hf1rFX1Yx70px9k+r2otjV3pP0SHtFhnV4yMLNmuLIM+HNVfoIPoB/7sBfu+ez0SVw08G3\n",
              "Bf9POf/Bfefn9tS5tK/HFkfs38QezRxrLZQHhNWDQn/jGugBgYFjsNJ9BGiuFf7u1ZPPuimhTugS\n",
              "r82SIuCIcgKzG5z4C8Emc8VxVL9B3D7DY2jevxw00+VcV/VQbqOV3pmfTKpZt5WBOFjZkaqdXCIy\n",
              "2sQ41q06SMYlKhntm75P9THRG//we35VdUU3m3y6v575UjZrJYQRqA9ioncg6jHAJjHJ4yrVf4CD\n",
              "+4S+qSyUmRExy5dNmJIxejUWk+7GxmiamWhEF7wbCgb0CVIf0b9x8bh91mjDpW82EhaoDgBc0YoO\n",
              "rKNQ9sOTXOf60mVpuRn69G6QkmB+Gw7VKxGompPtIRnJEHeB+r+DxUXQIs7rBk89PrvlmrJbRRDz\n",
              "IAfXsGqMd+ReCBA8XGzS9w0OHay1jqAu8iI8jX4RpnI7nU2xugv4myXHPbrO1TtFhzBxuzHF6Jzr\n",
              "kxg5In2LH5neboEE/aOhodRpndQO2E2aOmZZsXbzI6iKy2crf6SMG+VnavWKaGY194wMkXhCxDbl\n",
              "3ZEHbIAGB4XRLDfbjvcMT1W0tWXw2OF5LNfJqdHY4TQLwQRKbzg9+NAazGraCZdGKCABkZ49D1//\n",
              "9OeO6yJgaWeFcyUuKQJ4tmYN0eRkTW0G3RpMuYueO/CBv2EAQ6Xhf/L82sm4T/Lxq9cIwCERnaHB\n",
              "VNP6Wf+FqNVZE9i8xqOZOP0DGHnX+WCzH5LffTnyqFXvUttncfx+hdNn9tjiGxTwpwNHgkx2e+0q\n",
              "UpV94veDRt72qei2j2L2RXFSBi22dh5VTUge5P9xJxwojcUzkbqzxbSCh1QZgV10iyDzQ78ZRTtk\n",
              "OLSUkSwaN+EwLBB1Zb+TtX+T84b0yGkID/AjyWvxRnUlGVNX8m97g9I01AikIsMuBFf5kEOP9ghi\n",
              "IwogL3EGhx1wlJIOCDzjULUWPI4VnAUbLZI+hwwyouu2LqtHcNj+RKES4pTvkLNYPZa3wXI4yHLe\n",
              "7CNIbcAK97oJQPBhOKCzc7yVUY4rU2dropnj674KPd5jNZfApCQi6MMVMnye6FkPS3uGD35xHmz3\n",
              "UWaIDAYdMV22tRM/d0GTSy723yQWJAqycl7jUA2avtZDNZnuS5tpm96i0CzpI1Em9/brwrhnRhF7\n",
              "K/1GifXgsU6Etuq6QhlOL0vR3iO1afV8q1TohupzjerPSjaqHxvZAtxYpiKryDjvU1RnA+Z1QeZ6\n",
              "GVXpkSpEhVs6SGtcj7maCLAeQzAut4ByhI+svsU/S5u909pOYo4ywv6sduk+JI/3i9Hv6H936Esd\n",
              "G59VgQgHJ3ncTmPaTYo9D73/AhQJqY6uaZHc545RI0nEvP1fujjmabxOldNBsFEJqMnUviYv1twP\n",
              "wvduT8Q99UJAdPeQa9rs8b207saFxWHpOkjrlzENKbVPQqDnmqnxjZdE1FpWmo/4gAr0oYxksGsB\n",
              "DHWsuLAuh5kh+hUCP6j1a3y7KjSWciGEw/r29FxjOUJlkXa9ZFpX7bsXM09vDgGxNGkq3JHcPg5z\n",
              "VWi4d4bntNwscY0U5nhWv+P5K9ngep47c5DaOx3FLVZ+URd6+zc2s8+LNv4/g6OD+Rvfx73KFbGN\n",
              "rn5aNLxxf6+T4HOCFJ36MO15auozvJ9XQuA0Eqwry6sR8wGa5VEm77UuQAgSKk1jPaMh3CWdPvkD\n",
              "q2CgXBu5I1cMqAJ26jKKtdfk49E9hokKt0FR3MXz3IuHmU5F3F7SjoMc1l4U1lnqKZmTdXrfkwMq\n",
              "eHegFIyVZtN39x974o9NGTJaTfr86i2Kd/iekjm1Vt3hr9qvxShwt7ZTtTQdN4PnifQZtbCi653c\n",
              "MitOI90ZYXgOOcPTvBRQCy8jpUFBh56aJ1pY0qrejyB5KRA82bsR8c1hL+0NMQ4sBB5eTknICxqe\n",
              "whExaYjmEUxV0Ql+zEg1lIf5qOsb9emlCQhbTY/8sbyFVx5hxFojNmeaBKW2+Nx7uEhzyuY0UCH7\n",
              "zHqcT2UsTf0My5EbWhqU1lRXHlAa3xokKTJk9MpqZPp/cYTXwBNOI4EXP4Sl7UzGHu7FTpNlMmqA\n",
              "Oe3UWm4Wdql8lzj5DylE2qatWlHYc7xmJPAC0HwS0oQ7BR4VYZ/EKXUDZCKMsYKzNDng5R/x15Q6\n",
              "mbxaVPDc4rvaJ/He4ekRbciF486R0hDxiecObj9E7qASQMtt2E2OKDoSiJRlPITzhc1rw7QDajOA\n",
              "cMaJI2iDLJMoO/Pw7juS4aBS/WaFN4NwXIGXki4j2DegtdQp9OAnGgtzdxkLodWnWgQJ+F/pRUQu\n",
              "mqbnCrpCVr97sGxHwxjWnk8SKMaPCdbzGswLkTws2pscIMmke//w7mDvIVxQRVPCuFL5WIEWftIO\n",
              "LiY5mol0yn2Rx6UP+BBuALnJ7INrFErW5uEHbVFHIVo9atwA8YAkus3f8xhWfsU6D7lyP5SZVh33\n",
              "QBGEI7MZduQoPS+RMm1sP/1LW74Zl2P35xLJSlcBwpzlntZmvktAHtehoa0NKt/WVLPSXHcokI0c\n",
              "0HPv2wbFvuwKEnl+02uXSiiLKB4OxFHgtAWTclqIhxKUPZwL7c/fCTdyh+NqKN0f5xU7g8cSrxCa\n",
              "HaGyDVzTFQ3gV8tc6xJrp2G89XmBNn2D89+j7GIPH1niOzCrherdGHsuVuHFAfmD59HDvWRPy6wf\n",
              "+tJWtc1qXI0EhITzYC8ZSuwEJ2x1VRzUPvVwUFv+PQWZLijviK7LEECTskOFQ98TLzguSxfPBsnr\n",
              "Fp22GXHXv3AQ6y6z8ZDN/JI+XhIXQ0Mw58nYbttrtHJa6eyceC1rj0AG0Z+6i6Xh38S0J20AAARr\n",
              "QZpCSeEIQyGNAhD4EISBAwIQRAgp//7WjLACcRQbQfRQA4++3AL73Mj7qmYFQFOKdZXYdYqPj1uV\n",
              "hn75j6JIQ2g9Qo6ooRKbQch0ZneGfV7bDEMmEM4YT3/c15P5FV6zntKgEbrBfqSWjZnLZS0WvvDx\n",
              "4f4gY8r/59saF5A81ooabrKGeB1DJdIrRyWFkWrrAQyWM5xCh0PxkwPQQbIOJck0j9Tf5FnZUipA\n",
              "Ez5B89o8V/C1qsGb2UnSO//A3VTv7tU9bj1/VwKLCsbsGqPbSrngpHfUODZpnULs30/+kd6TCro8\n",
              "YSOHdj2rvVUuwYZeXyvVyZGTQ4YwrsX65tAi6ffiWCaL+QpWNK4qJ0Cpau314SftExC0eEKjYF41\n",
              "c4THcXHeETS3QBuTa/7/seQeZyE+Uphg5XdY2tXXTmCM25Dfu1pDkX+DlUZjpUkG6qtkXdh4uuni\n",
              "j7PwlLnpdE26eHnnALUMKBUxWHo7WihCa/WmGRCpuTUoub7bQMpQZjrTQldEUW9ZDbVyP5Nk8QYC\n",
              "W6M2Jg2RPRsPGFXDXmsMv9QN3LEAtvHVrxjttvKNJg+Eh2rxc4fPm+U+8WXiy0YzO5TJb0D7zVt7\n",
              "Zkxyph+sbmeAQeu9xK394NFF93rJXrt2yGOJPLwMgr53iqNdPkycwlbN7ei0lGfQMED0zkqcqZQY\n",
              "C3eBOj/zYyRldMt9xhFFMuqKT11+oycQeJ5sQauu49k9T2JD3tE7HBit6bnkqnBXrbQyuITroDVI\n",
              "ATg4oH891HV8E+PxjNeCDV1j//4egKA4zQswS9g8cekzHDCB6QV25ckme1WfzS3nYDNKuHHl4UmO\n",
              "ozVYRfiV0Egeim1RzV1/656ov/XR3wdI+D1mVYaYio4jr0WPeRBcwEU8lzJNwyseO+AVplxcGprp\n",
              "3wIYN3P1N8D7V0/kp4xCZSiizj9XqFzOjNmeE+H8/ngUWNdfIjxfnoiL37uG02LpQ4MVtRcz5mDy\n",
              "Cyvc45srvm+IT1djs1qhquolRw0CUQ4mjn1WT2WheQpfDax+VDATq+D7uq8q6qRAA1hWgCVmfMZi\n",
              "dkGK19yepCMPnWr+4R2GmpUZrjE+5JLgnGXpMLVoIPj2wYbRvgKfoyqCSySsde+hDR6wQDPuMgNk\n",
              "HBxa6ifkh2iv+yOt5BDXxuvuqKF4e+MukvvQMXaY+WQO06K5PvDRtpk33NbetwtQhL4ZoIPfOM1C\n",
              "a2SIAIh+G5KReG4hwyY7y2y+HkQNM/ALH9xdcUvkIAxi/mkoeNP5IMLR+lO/7ctjof+63TjJwUSF\n",
              "97AQqs2qT1HN/3MnGaum+PB1v70H5oN9SoTZNY+uIwgU0Ff9LDflvE1KgUbRpNUB2Ur4m+DijeqL\n",
              "KDhjqAuA/gbMev8EafwIEya822nGYvwMWODnjUt8XQOlpHFXgu6YFQYkvHgg5J3S8AnCZxvkYdYM\n",
              "y++BL7BT81QILt94/LYNvFcvvgNhR+lEE1CdaPfv41VgUu92rk/jXbkDlSLpYDZhAAACuEGaY0vh\n",
              "CEPIc0BBCYECBCEwEELAIKf//taMsAJxB+jmcUALa253swZYO9rNRK4TD/3eUpFLQirJoKSjOooY\n",
              "GQ/bnxcvSkztKnPgzjP63ZP8HymlBcUfHKY3woXdRLu/84lT0nqvCwJGDZZ9qNoyy/EgtcQBXwxW\n",
              "zXxcCO1S38y/43XLoeqe7QNmbGwt/EgntK1ofTJFbkAMa/5dij2IWrDH3CKG8M8WDHhFRWWKur/f\n",
              "oyoAHqzMNg8+FD6+ITQhytZNNonER+Gi9UAWDyfa5b9aOHLK/bq7AAAOrgEU16gcRScCZPKZazsi\n",
              "fJUfGWLEd7T6uHYK0PX07t63Xj2Wj39oXN79TE56hyhZ+l7wFIVVx+sLXb1iz/pY3N2WPxz4CsLP\n",
              "CSgtGONmIUstGiqj8DAfyFGY8fWUouCut7tpdpItYcLb1mElJ/MfWytyYrOEBuav0TkYOmd9tEAG\n",
              "wk7FWLJQUYWYWdwAXVKaAhHIYCaMbU3VYB/7ngXTbYfVHf0BFwtMXSlnhj/I/IDMGWG9YX97kijn\n",
              "RygD0Hcn5GpgKcW9HTMtKR45S0I/dCzgN5t2EYTJAlOk8FQ38MrrsF21HG57TMsQ1aFgSqKJELMy\n",
              "znXs1IO/9Pj4KakjuCJTrEXeS0m/J+Jx/zNAYt7o+Mxa8rgZ2pa1Eoh3uG7mPTxaGWx+vqxG55dC\n",
              "rK7f72l6O0sY8vTFpcnEavRf2ulaI3fXZWZohcPIw5D3OU/JqAsAqao/jG/MDirF05LGDdr3VWXP\n",
              "fMKOFuSyPKxngQQnwIWhZNp/4ALWutepY+Hpdii9z68dXCEyfyImdwLmpr6HP6xKLd7FQfet8OgN\n",
              "k/bFaLgY8QhrDZVeqE4cXhHIKy5MmHpnmuaL7Hw3e0Mye/MeMGTdOplsY3nTAaAQljnccSssT9Fb\n",
              "L8X7RsBAQAAAA+NBmoRJ4Q8mUwIKf/7WjLACQOThgAEPnK+WTJ3RbNDTFYu+2YnFd78JWJfd4CbX\n",
              "d1whw6+xxFbJMJeOzcZlSK9AtjCF1oZtkaiKntOuGw9bgcWg1QVLRSwzFRp34rB5osVKckG5qnvY\n",
              "XaMsxOi2twKcLIB3jDP/Lo7T6vEJyREvxbnNPDGSj4ai8+hUYYYfMP2R/3NOj3S1Vwpa8jnwVnuE\n",
              "TsBvnbSL5hBffAZu6RvsXIW9eSTF6BJE7EBXNWtODAZimeFDvqossCg+ZkZTpcextGP+2E6cBYKV\n",
              "bVCgpQWDiKgHgBK6Ywi6juZscSl1LElNAxy+UQ72Sp10404s8n/p5vghPeVNjJ3BulVWKqJtC0/g\n",
              "WxhEslQnOMJgmtuleuBopFOJ5Yhe/YGckupco5E/5jkdZ/PBGaSl9YwYr715cfc3mKmWoQZLHFpF\n",
              "5Cx5K8rvdDT9MWawD0vSWI3uPycFqLvisK8jlGs+m6GQZSdvU3tds5tOteNywmtZW2FHldRh1u/f\n",
              "1HA1Hn1KvV/koXm3AZf1xd5fP4mdJIORJzpRObJLG69HGIE9WTaJ2GpQgFXw7NBiHcIdEn3s+Vg/\n",
              "jkUdUA6xqd1Ob4ntywq0T611VuQ/eiux751ZJM9mO7nEpQOs/bNQGjHXHfXJJTRD4YD59n4xY6f3\n",
              "pwSMgRea1Jc4Uk7cX9J4DLL1omcmKo7IQ7OT4xYShiKlqSInVD+CAvDdXPgnKIFEf/8HbguihZfl\n",
              "tOF0qSjaFlzEqe5WPAzI3ci2dnKSNbmhLUXVs7DgO4jd467b2cyUNbvBhp3+NJR1+5z+dxfYKKxj\n",
              "Fe2jZ1YxPPlhHakTvSDsAlYSMkCDnDzPxbtvA5AKsU+0d2juNz/5EpNalVm/Gks9PN2TvHzCvOr7\n",
              "PWK0LD6zNq56SjI0X/Ti6KHQHSOAiCiFAQHt3NLI6HUPCGEmZlzXc9+dMNT++f2qKrs3VlxaYDDY\n",
              "p0zxyNf3dR5pk13oPCtCOPFdRHvwwtFMQIN3agVzOLGzy428nxgnPdRtVPVbjPxZK/0Jup8SOLcR\n",
              "fn4eQe/xJ/5m8NchNHzdeyZwqpdYm5q+O1c44CAwqAhbRD5tENSKrbmeVIxeyCO2N7bZSP/lR/6H\n",
              "kN1yIE9KHtKRDX9WMPJFFtwOwcO2CK7JP9PxvkfrQCatXIOkZxVKUd64AdfuIcGkr1jZ2EwiX9im\n",
              "WnSsNXT69h6DAGPqmhDRVkJpE4/lFs37triSSTz/AjzdvM+FeTSPNk/HCrYNBlPwffv4cvhZ+bLG\n",
              "VDuf68vWi3bkcHw+RnMXFFAhQaHlXTY9gSaYOuylPE2qK3thAwAAAdFBmqVJ4Q8mUwIJf/61KoAA\n",
              "Bx8XNKpcgZlDp1DMb9soANKBFuGAEpn0q1/0kp7xjcT1NZLR+y76f3H38Uc3xSJFtKUWNNR0SJ8W\n",
              "rr4ROBOKn7m6XUC2XI1GTkN/oQnKwQ5YZHSJq6YMJz5pxIgaaJlk2dGzeKFF30Yn/y3amT/uE7Ex\n",
              "DM7jDPFaTzIcixQy9bl+NclIvLejhemhb++XaiQYeouRSQfNHbVk7JVuaCI9q35Wknq3RHWGeF6t\n",
              "iMc8ZI1tQ9tL//s95CHVVXDtmd5RzeSllv2DMbu2yPiLZAP/hfX/ArphrYokQop2bSbXx7MadZcm\n",
              "Bf7TFQmvDflADDmNZaLXJOlNSqIDiSCcUWYOqDNz6gRoswu5XHkl3y0DLMLb7f5jwL0Vhr48xtU6\n",
              "FwsJIVEddtYt3iIuqAqrQYc+jcqvU8zK0CBj04fBZ+qt3ZXgQYlEXd33YEJpv71vdBO1RF/UqcpU\n",
              "Q7T85rk4rns9ktbXyYMHUUwOGaKmPHGJOh6ptrZnbcUjvTVzBnB2HRf9GYjYYoKMcSz/LHWAJT//\n",
              "8n0mb2JEuj64WwITZuxNqjeUxONpuXoToNqlirxL/quoAjb2XyxnvQoEUAdJXlrhyoEAAANQbW9v\n",
              "dgAAAGxtdmhkAAAAAAAAAAAAAAAAAAAD6AAAC7gAAQAAAQAAAAAAAAAAAAAAAAEAAAAAAAAAAAAA\n",
              "AAAAAAABAAAAAAAAAAAAAAAAAABAAAAAAAAAAAAAAAAAAAAAAAAAAAAAAAAAAAAAAAAAAgAAAnp0\n",
              "cmFrAAAAXHRraGQAAAADAAAAAAAAAAAAAAABAAAAAAAAC7gAAAAAAAAAAAAAAAAAAAAAAAEAAAAA\n",
              "AAAAAAAAAAAAAAABAAAAAAAAAAAAAAAAAABAAAAAAfgAAAH4AAAAAAAkZWR0cwAAABxlbHN0AAAA\n",
              "AAAAAAEAAAu4AABAAAABAAAAAAHybWRpYQAAACBtZGhkAAAAAAAAAAAAAAAAAABAAAAAwABVxAAA\n",
              "AAAALWhkbHIAAAAAAAAAAHZpZGUAAAAAAAAAAAAAAABWaWRlb0hhbmRsZXIAAAABnW1pbmYAAAAU\n",
              "dm1oZAAAAAEAAAAAAAAAAAAAACRkaW5mAAAAHGRyZWYAAAAAAAAAAQAAAAx1cmwgAAAAAQAAAV1z\n",
              "dGJsAAAAtXN0c2QAAAAAAAAAAQAAAKVhdmMxAAAAAAAAAAEAAAAAAAAAAAAAAAAAAAAAAfgB+ABI\n",
              "AAAASAAAAAAAAAABAAAAAAAAAAAAAAAAAAAAAAAAAAAAAAAAAAAAAAAAAAAAGP//AAAAM2F2Y0MB\n",
              "ZAAW/+EAGmdkABas2UCAEHllhAAAAwAEAAADABA8WLZYAQAGaOvjyyLAAAAAHHV1aWRraEDyXyRP\n",
              "xbo5pRvPAyPzAAAAAAAAABhzdHRzAAAAAAAAAAEAAAAGAAAgAAAAABRzdHNzAAAAAAAAAAEAAAAB\n",
              "AAAAGGN0dHMAAAAAAAAAAQAAAAYAAEAAAAAAHHN0c2MAAAAAAAAAAQAAAAEAAAAGAAAAAQAAACxz\n",
              "dHN6AAAAAAAAAAAAAAAGAAAWzwAACREAAARvAAACvAAAA+cAAAHVAAAAFHN0Y28AAAAAAAAAAQAA\n",
              "ACwAAABidWR0YQAAAFptZXRhAAAAAAAAACFoZGxyAAAAAAAAAABtZGlyYXBwbAAAAAAAAAAAAAAA\n",
              "AC1pbHN0AAAAJal0b28AAAAdZGF0YQAAAAEAAAAATGF2ZjU3LjgzLjEwMA==\n",
              "\">\n",
              "  Your browser does not support the video tag.\n",
              "</video>"
            ],
            "text/plain": [
              "<IPython.core.display.HTML object>"
            ]
          },
          "metadata": {},
          "execution_count": 7
        },
        {
          "output_type": "display_data",
          "data": {
            "image/png": "[encoded data removed]",
            "text/plain": [
              "<Figure size 504x504 with 1 Axes>"
            ]
          },
          "metadata": {
            "needs_background": "light"
          }
        }
      ]
    }
  ]
}